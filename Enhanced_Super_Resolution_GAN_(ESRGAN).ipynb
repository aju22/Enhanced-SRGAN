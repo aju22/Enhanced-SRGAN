{
  "nbformat": 4,
  "nbformat_minor": 0,
  "metadata": {
    "colab": {
      "provenance": [],
      "collapsed_sections": [],
      "authorship_tag": "ABX9TyPmEaYnsa2Usym8CNgtMWoq",
      "include_colab_link": true
    },
    "kernelspec": {
      "name": "python3",
      "display_name": "Python 3"
    },
    "language_info": {
      "name": "python"
    }
  },
  "cells": [
    {
      "cell_type": "markdown",
      "metadata": {
        "id": "view-in-github",
        "colab_type": "text"
      },
      "source": [
        "<a href=\"https://colab.research.google.com/github/aju22/Enhanced-SRGAN/blob/main/Enhanced_Super_Resolution_GAN_(ESRGAN).ipynb\" target=\"_parent\"><img src=\"https://colab.research.google.com/assets/colab-badge.svg\" alt=\"Open In Colab\"/></a>"
      ]
    },
    {
      "cell_type": "code",
      "execution_count": null,
      "metadata": {
        "id": "S76_MnwepK2K"
      },
      "outputs": [],
      "source": [
        "import tensorflow as tf\n",
        "from keras import layers\n",
        "from tensorflow import keras"
      ]
    },
    {
      "cell_type": "markdown",
      "source": [
        "# Model Architecture"
      ],
      "metadata": {
        "id": "hlDFrK8agC2P"
      }
    },
    {
      "cell_type": "markdown",
      "source": [
        "![](https://esrgan.readthedocs.io/en/latest/_images/architecture.png)"
      ],
      "metadata": {
        "id": "qB-hHTXyazlu"
      }
    },
    {
      "cell_type": "code",
      "source": [
        "class ConvBlock(layers.Layer):\n",
        "  \n",
        "  def __init__(self, out_c, activation=True, **kwargs):\n",
        "    super().__init__()\n",
        "\n",
        "    self.cnn = layers.Conv2D(out_c, **kwargs)\n",
        "    self.activation = layers.LeakyReLU(alpha=0.3) if activation else layers.Activation('linear')\n",
        "\n",
        "  def call(self, x):\n",
        "    return self.activation(self.cnn(x))   "
      ],
      "metadata": {
        "id": "lJ0lLylQpZTj"
      },
      "execution_count": null,
      "outputs": []
    },
    {
      "cell_type": "code",
      "source": [
        "class UpsampleBlock(layers.Layer):\n",
        "  \n",
        "  def __init__(self, in_c, scale_factor=2):\n",
        "    super().__init__()\n",
        "\n",
        "    self.upsample = layers.UpSampling2D(size=scale_factor)\n",
        "    self.conv = layers.Conv2D(in_c, 3, 1, 'same')\n",
        "    self.activation = layers.LeakyReLU(alpha=0.3)\n",
        "\n",
        "  def call(self, x):\n",
        "\n",
        "    return self.activation(self.conv(self.upsample(x)))  "
      ],
      "metadata": {
        "id": "bYYJ3Ie7qkfO"
      },
      "execution_count": null,
      "outputs": []
    },
    {
      "cell_type": "code",
      "source": [
        "class DenseResidualBlock(layers.Layer):\n",
        "   def __init__(self, in_c, channels=32, res_beta=0.2):\n",
        "     super().__init__()\n",
        "     self.res_beta = res_beta\n",
        "\n",
        "     self.blocks = []\n",
        "\n",
        "     for i in range(5):\n",
        "       \n",
        "       self.blocks.append(\n",
        "           \n",
        "           ConvBlock(channels if i <= 3 else in_c,\n",
        "                     activation=True if i<=3 else False,\n",
        "                     kernel_size=3, \n",
        "                     strides=1, \n",
        "                     padding='same'\n",
        "                    )\n",
        "           )\n",
        "       \n",
        "\n",
        "   def call(self, x):\n",
        "\n",
        "     new_inputs = x\n",
        "\n",
        "     for block in self.blocks:\n",
        "       out = block(new_inputs)\n",
        "       \n",
        "       new_inputs = tf.concat([new_inputs, out], axis=3)  \n",
        "       \n",
        "\n",
        "     return self.res_beta * out + x   "
      ],
      "metadata": {
        "id": "_HvNlucprkqe"
      },
      "execution_count": null,
      "outputs": []
    },
    {
      "cell_type": "code",
      "source": [
        "class RRDB(layers.Layer):\n",
        "  def __init__(self, in_c, res_beta=0.2):\n",
        "    super().__init__()\n",
        "    self.res_beta = res_beta\n",
        "    self.rrdb = keras.Sequential([\n",
        "       DenseResidualBlock(in_c) for _ in range(3) \n",
        "    ])\n",
        "\n",
        "  def call(self, x):\n",
        "    \n",
        "    return self.rrdb(x)*self.res_beta + x  "
      ],
      "metadata": {
        "id": "No5eBE1Nve4U"
      },
      "execution_count": null,
      "outputs": []
    },
    {
      "cell_type": "code",
      "source": [
        "class Generator(tf.keras.Model):\n",
        "  \n",
        "  def __init__(self, in_c=3, num_c=32, num_blocks=23):\n",
        "    super().__init__()\n",
        "    \n",
        "    self.conv1 = layers.Conv2D(num_c, kernel_size=3,\n",
        "                              strides=1, padding='same')\n",
        "    \n",
        "    self.residuals = keras.Sequential([\n",
        "        RRDB(num_c) for _ in range(num_blocks)\n",
        "    ])\n",
        "\n",
        "    self.conv2 = layers.Conv2D(num_c, kernel_size=3,\n",
        "                               strides=1, padding='same')\n",
        "    \n",
        "    self.upsample = keras.Sequential([\n",
        "        UpsampleBlock(num_c) for _ in range(2)\n",
        "    ])\n",
        "\n",
        "    self.out = keras.Sequential([\n",
        "        layers.Conv2D(num_c, 3, 1, 'same'),\n",
        "        layers.LeakyReLU(0.2),\n",
        "        layers.Conv2D(in_c, 3, 1, 'same')\n",
        "    ])\n",
        "\n",
        "  def call(self, x):\n",
        "\n",
        "    initial = self.conv1(x)\n",
        "\n",
        "    x = self.conv2(self.residuals(initial)) + initial\n",
        "    x = self.upsample(x)\n",
        "    \n",
        "    return self.out(x)"
      ],
      "metadata": {
        "id": "VFQcn94byVOx"
      },
      "execution_count": null,
      "outputs": []
    },
    {
      "cell_type": "code",
      "source": [
        "class Discriminator(tf.keras.Model):\n",
        "  \n",
        "  def __init__(self, in_c=3, features=[64,64,128,128,256,256,512,512]):\n",
        "    super().__init__()\n",
        "    blocks = []\n",
        "\n",
        "    for idx, feature in enumerate(features):\n",
        "\n",
        "      blocks.append(\n",
        "          ConvBlock(feature,\n",
        "                    activation=True, \n",
        "                    kernel_size= 3,\n",
        "                    strides= 1 + idx%2,\n",
        "                    padding='same',\n",
        "                    )\n",
        "      )\n",
        "\n",
        "    self.blocks = keras.Sequential(blocks)\n",
        "\n",
        "    self.classifier = keras.Sequential([\n",
        "        \n",
        "        layers.AveragePooling2D(pool_size=(6, 6)),\n",
        "        layers.Flatten(),\n",
        "        layers.Dense(1024),\n",
        "        layers.LeakyReLU(0.2),\n",
        "        layers.Dense(1)                      \n",
        "    ])  \n",
        "\n",
        "  def call(self, x):\n",
        "   \n",
        "    x = self.blocks(x)\n",
        "\n",
        "    return self.classifier(x)"
      ],
      "metadata": {
        "id": "bwTkfQ1Y0ZzD"
      },
      "execution_count": null,
      "outputs": []
    },
    {
      "cell_type": "code",
      "source": [
        "generator = Generator()\n",
        "discriminator = Discriminator()"
      ],
      "metadata": {
        "id": "RfNsYL3uNO6t"
      },
      "execution_count": null,
      "outputs": []
    },
    {
      "cell_type": "code",
      "source": [
        "res = 128\n",
        "x = tf.random.uniform((5, res, res, 3))"
      ],
      "metadata": {
        "id": "0C3Y6Jc6NcoC"
      },
      "execution_count": null,
      "outputs": []
    },
    {
      "cell_type": "code",
      "source": [
        "gen_out = genarator(x)\n",
        "gen_out.shape"
      ],
      "metadata": {
        "colab": {
          "base_uri": "https://localhost:8080/"
        },
        "id": "7QXvpocogBNi",
        "outputId": "4cbf32f4-e908-439c-90c2-bde225d04841"
      },
      "execution_count": null,
      "outputs": [
        {
          "output_type": "execute_result",
          "data": {
            "text/plain": [
              "TensorShape([5, 512, 512, 3])"
            ]
          },
          "metadata": {},
          "execution_count": 185
        }
      ]
    },
    {
      "cell_type": "code",
      "source": [
        "disc_out = discriminator(gen_out)\n",
        "disc_out.shape"
      ],
      "metadata": {
        "colab": {
          "base_uri": "https://localhost:8080/"
        },
        "id": "yusD5gT-gJvt",
        "outputId": "e57166dd-ce7f-424a-a983-07f76969d1d1"
      },
      "execution_count": null,
      "outputs": [
        {
          "output_type": "execute_result",
          "data": {
            "text/plain": [
              "TensorShape([5, 1])"
            ]
          },
          "metadata": {},
          "execution_count": 186
        }
      ]
    },
    {
      "cell_type": "markdown",
      "source": [
        "# Training and Loss"
      ],
      "metadata": {
        "id": "vHzDs8rjgV77"
      }
    },
    {
      "cell_type": "code",
      "source": [
        "class VGGLoss(layers.Layer):\n",
        "  \n",
        "  def __init__(self, input_shape=(224,224)):\n",
        "    \n",
        "    self.vgg = tf.keras.applications.VGG19(input_shape=input_shape)\n",
        "    self.vgg.trainable = Falses\n",
        "    outputs = [self.vgg.get_layer(index = idx).output for idx in range(35)]\n",
        "    self.vgg = tf.keras.Model([self.vgg.input], outputs)\n",
        "\n",
        "    self.loss = keras.losses.MeanSquaredError()\n",
        "\n",
        "  def call(self, inputs, targets):\n",
        "\n",
        "    vgg_input = self.vgg(input)\n",
        "    vgg_target = self.vgg(targets)\n",
        "\n",
        "    return self.loss(vgg_input, vgg_target)  "
      ],
      "metadata": {
        "id": "8aRBSuAmgXFZ"
      },
      "execution_count": null,
      "outputs": []
    },
    {
      "cell_type": "code",
      "source": [
        "generator_optimizer = tf.keras.optimizers.Adam(2e-4, beta_1=0.5)\n",
        "discriminator_optimizer = tf.keras.optimizers.Adam(2e-4, beta_1=0.5)"
      ],
      "metadata": {
        "id": "z_zLZUGFi_WA"
      },
      "execution_count": null,
      "outputs": []
    },
    {
      "cell_type": "code",
      "source": [
        "@tf.function\n",
        "def train_step(low_res, high_res, step):\n",
        "  with tf.GradientTape() as gen_tape, tf.GradientTape() as disc_tape:\n",
        "    \n",
        "    gen_output = generator(low_res, training=True)\n",
        "\n",
        "    disc_real = discriminator(high_res, training=True)\n",
        "    disc_fake = discriminator(gen_output, training=True)\n",
        "\n",
        "    disc_loss = (-(tf.math.reduce_mean(disc_real)) - (tf.math.reduce_mean(disc_fake)))\n",
        "\n",
        "    l1_loss = 1e-2*tf.keras.losses.MeanAbsoluteError()(gen_output, high_res)\n",
        "    adversarial_loss = 5e-3*(-tf.math.reduce_mean(discriminator(gen_output)))\n",
        "    vgg_loss = VGGLoss()(gen_output, high_res)\n",
        "    \n",
        "    gen_loss = l1_loss + vgg_loss + adversarial_loss\n",
        "\n",
        "  generator_gradients = gen_tape.gradient(gen_loss,\n",
        "                                          generator.trainable_variables)\n",
        "  discriminator_gradients = disc_tape.gradient(disc_loss,\n",
        "                                               discriminator.trainable_variables)\n",
        "\n",
        "  generator_optimizer.apply_gradients(zip(generator_gradients,\n",
        "                                          generator.trainable_variables))\n",
        "  discriminator_optimizer.apply_gradients(zip(discriminator_gradients,\n",
        "                                              discriminator.trainable_variables))"
      ],
      "metadata": {
        "id": "eQGdBgZWokhH"
      },
      "execution_count": null,
      "outputs": []
    }
  ]
}